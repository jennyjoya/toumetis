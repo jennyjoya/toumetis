{
 "cells": [
  {
   "cell_type": "code",
   "execution_count": 2,
   "metadata": {},
   "outputs": [
    {
     "name": "stdout",
     "output_type": "stream",
     "text": [
      "            Unnamed: 0  asset_id operational_mode        s1         s2  \\\n",
      "0  2016-01-01 00:00:00        33                a -0.694638  12.680544   \n",
      "1  2016-01-01 00:05:00        33                a  5.012288  11.264028   \n",
      "2  2016-01-01 00:10:00        33                a  4.903325  10.882658   \n",
      "3  2016-01-01 00:15:00        33                a -0.612916  18.496431   \n",
      "4  2016-01-01 00:20:00        33                a -1.184970  12.108489   \n",
      "\n",
      "         s3  \n",
      "0  0.503953  \n",
      "1  0.953424  \n",
      "2 -0.081722  \n",
      "3  3.023717  \n",
      "4  7.205164  \n"
     ]
    }
   ],
   "source": [
    "# import data\n",
    "import pandas as pd\n",
    "df = pd.read_csv('data/data.csv')\n",
    "print(df.head())"
   ]
  },
  {
   "cell_type": "code",
   "execution_count": 3,
   "metadata": {},
   "outputs": [
    {
     "name": "stdout",
     "output_type": "stream",
     "text": [
      "Unnamed: 0          56632\n",
      "asset_id               36\n",
      "operational_mode        6\n",
      "s1                   1854\n",
      "s2                   1811\n",
      "s3                   2110\n",
      "dtype: int64\n",
      "<class 'pandas.core.frame.DataFrame'>\n",
      "RangeIndex: 1098199 entries, 0 to 1098198\n",
      "Data columns (total 6 columns):\n",
      " #   Column            Non-Null Count    Dtype  \n",
      "---  ------            --------------    -----  \n",
      " 0   Unnamed: 0        1098199 non-null  object \n",
      " 1   asset_id          1098199 non-null  int64  \n",
      " 2   operational_mode  1098199 non-null  object \n",
      " 3   s1                1098194 non-null  float64\n",
      " 4   s2                1098199 non-null  float64\n",
      " 5   s3                1098198 non-null  float64\n",
      "dtypes: float64(3), int64(1), object(2)\n",
      "memory usage: 50.3+ MB\n",
      "None\n"
     ]
    }
   ],
   "source": [
    "# quick check the data has the form expected\n",
    "print(df.nunique())\n",
    "print(df.info())"
   ]
  },
  {
   "cell_type": "code",
   "execution_count": 4,
   "metadata": {},
   "outputs": [
    {
     "name": "stdout",
     "output_type": "stream",
     "text": [
      "           asset_id            s1            s2            s3\n",
      "count  1.098199e+06  1.098194e+06  1.098199e+06  1.098198e+06\n",
      "mean   1.886065e+01  6.628588e-01  7.255648e+00  4.110601e-01\n",
      "std    1.021424e+01  6.849083e+00  6.746211e+00  4.754115e+00\n",
      "min    1.000000e+00 -1.961000e+01 -1.961000e+01 -1.980000e+01\n",
      "25%    1.000000e+01 -2.870000e+00  3.170000e+00 -2.220000e+00\n",
      "50%    1.900000e+01  2.700000e-01  7.930000e+00  0.000000e+00\n",
      "75%    2.800000e+01  4.440000e+00  1.156000e+01  2.720000e+00\n",
      "max    3.600000e+01  1.995000e+01  2.004000e+01  1.961000e+01\n"
     ]
    }
   ],
   "source": [
    "# print summary statistics\n",
    "print(df.describe())"
   ]
  },
  {
   "cell_type": "code",
   "execution_count": 5,
   "metadata": {},
   "outputs": [
    {
     "name": "stdout",
     "output_type": "stream",
     "text": [
      "<class 'pandas.core.frame.DataFrame'>\n",
      "RangeIndex: 1098199 entries, 0 to 1098198\n",
      "Data columns (total 6 columns):\n",
      " #   Column            Non-Null Count    Dtype         \n",
      "---  ------            --------------    -----         \n",
      " 0   Timestamp         1098199 non-null  datetime64[ns]\n",
      " 1   asset_id          1098199 non-null  int64         \n",
      " 2   operational_mode  1098199 non-null  object        \n",
      " 3   s1                1098194 non-null  float64       \n",
      " 4   s2                1098199 non-null  float64       \n",
      " 5   s3                1098198 non-null  float64       \n",
      "dtypes: datetime64[ns](1), float64(3), int64(1), object(1)\n",
      "memory usage: 50.3+ MB\n",
      "None\n"
     ]
    }
   ],
   "source": [
    "# change date/time to datetime format\n",
    "df_new = df.rename(columns={'Unnamed: 0': 'Timestamp'})\n",
    "df_new['Timestamp'] = pd.to_datetime(df_new['Timestamp'])\n",
    "\n",
    "print(df_new.info())"
   ]
  },
  {
   "cell_type": "code",
   "execution_count": 6,
   "metadata": {},
   "outputs": [
    {
     "name": "stdout",
     "output_type": "stream",
     "text": [
      "2016-07-15 15:15:00\n",
      "2016-01-01 00:00:00\n"
     ]
    }
   ],
   "source": [
    "print(df_new['Timestamp'].max())\n",
    "print(df_new['Timestamp'].min())\n"
   ]
  },
  {
   "cell_type": "code",
   "execution_count": 7,
   "metadata": {},
   "outputs": [
    {
     "name": "stdout",
     "output_type": "stream",
     "text": [
      "0          False\n",
      "1          False\n",
      "2          False\n",
      "3          False\n",
      "4          False\n",
      "           ...  \n",
      "1098194    False\n",
      "1098195    False\n",
      "1098196    False\n",
      "1098197    False\n",
      "1098198    False\n",
      "Length: 1098199, dtype: bool\n"
     ]
    }
   ],
   "source": [
    "# duplicates\n",
    "\n",
    "duplicates = df_new.duplicated()\n",
    "print(duplicates)"
   ]
  },
  {
   "cell_type": "code",
   "execution_count": 57,
   "metadata": {},
   "outputs": [
    {
     "data": {
      "image/png": "[encoded data removed]",
      "text/plain": [
       "<Figure size 432x288 with 1 Axes>"
      ]
     },
     "metadata": {},
     "output_type": "display_data"
    }
   ],
   "source": [
    "import matplotlib.pyplot as plt\n",
    "import seaborn as sns\n",
    "sns.set()\n",
    "\n",
    "asset_id_filter=33\n",
    "asset_id33 = df_new[df_new['asset_id']  ==  asset_id_filter]\n",
    "\n",
    "plt.plot(asset_id33['Timestamp'], asset_id33['s1'])\n",
    "plt.plot(asset_id33['Timestamp'], asset_id33['s2'])\n",
    "plt.plot(asset_id33['Timestamp'], asset_id33['s3'])\n",
    "plt.show()\n",
    "# plt.plot(df_new.where(df_new['asset_id'] == asset_id_filter)['Timestamp'], int(df_new.where(df_new['asset_id'] == asset_id_filter)['operational_mode']))"
   ]
  },
  {
   "cell_type": "code",
   "execution_count": 58,
   "metadata": {},
   "outputs": [
    {
     "data": {
      "text/plain": [
       "0        a\n",
       "1        a\n",
       "2        a\n",
       "3        a\n",
       "4        a\n",
       "        ..\n",
       "29448    e\n",
       "29449    e\n",
       "29450    e\n",
       "29451    e\n",
       "29452    e\n",
       "Name: operational_mode, Length: 29453, dtype: object"
      ]
     },
     "execution_count": 58,
     "metadata": {},
     "output_type": "execute_result"
    }
   ],
   "source": [
    "asset_id33.diff['operational_mode']"
   ]
  },
  {
   "cell_type": "code",
   "execution_count": 9,
   "metadata": {},
   "outputs": [
    {
     "data": {
      "text/plain": [
       "0            a\n",
       "1            a\n",
       "2            a\n",
       "3            a\n",
       "4            a\n",
       "          ... \n",
       "1098194    NaN\n",
       "1098195    NaN\n",
       "1098196    NaN\n",
       "1098197    NaN\n",
       "1098198    NaN\n",
       "Name: operational_mode, Length: 1098199, dtype: object"
      ]
     },
     "execution_count": 9,
     "metadata": {},
     "output_type": "execute_result"
    }
   ],
   "source": [
    "df_new.where(df_new['asset_id'] == asset_id_filter)['operational_mode']"
   ]
  },
  {
   "cell_type": "code",
   "execution_count": 56,
   "metadata": {},
   "outputs": [
    {
     "data": {
      "text/plain": [
       "23562"
      ]
     },
     "execution_count": 56,
     "metadata": {},
     "output_type": "execute_result"
    }
   ],
   "source": [
    "# Creeate new DF where only single asset it\n",
    "asset_id_filter=33\n",
    "asset_id33 = df_new[df_new['asset_id']  ==  asset_id_filter]\n",
    "\n",
    "from math import floor \n",
    "\n",
    "floor(len(asset_id33)*0.8)\n",
    "# create vector of len(ass_id) of true\n",
    "# set top 20% to false (test)\n"
   ]
  },
  {
   "cell_type": "code",
   "execution_count": null,
   "metadata": {},
   "outputs": [],
   "source": [
    "asset_id_filter = 33\n"
   ]
  },
  {
   "cell_type": "code",
   "execution_count": 47,
   "metadata": {},
   "outputs": [
    {
     "data": {
      "text/plain": [
       "array(['a', 'b', 'c', 'd', 'f', 'e'], dtype=object)"
      ]
     },
     "execution_count": 47,
     "metadata": {},
     "output_type": "execute_result"
    }
   ],
   "source": [
    "df_new['operational_mode'].unique()"
   ]
  }
 ],
 "metadata": {
  "interpreter": {
   "hash": "aee8b7b246df8f9039afb4144a1f6fd8d2ca17a180786b69acc140d282b71a49"
  },
  "kernelspec": {
   "display_name": "Python 3.10.0 64-bit",
   "language": "python",
   "name": "python3"
  },
  "language_info": {
   "codemirror_mode": {
    "name": "ipython",
    "version": 3
   },
   "file_extension": ".py",
   "mimetype": "text/x-python",
   "name": "python",
   "nbconvert_exporter": "python",
   "pygments_lexer": "ipython3",
   "version": "3.10.0"
  },
  "orig_nbformat": 4
 },
 "nbformat": 4,
 "nbformat_minor": 2
}
